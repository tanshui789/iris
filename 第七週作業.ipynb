{
 "cells": [
  {
   "cell_type": "markdown",
   "metadata": {},
   "source": [
    "## 1.先import csv模組，然後打開查看iris資料集"
   ]
  },
  {
   "cell_type": "code",
   "execution_count": 1,
   "metadata": {},
   "outputs": [],
   "source": [
    "import csv"
   ]
  },
  {
   "cell_type": "code",
   "execution_count": 2,
   "metadata": {},
   "outputs": [
    {
     "name": "stdout",
     "output_type": "stream",
     "text": [
      "['Id', 'SepalLengthCm', 'SepalWidthCm', 'PetalLengthCm', 'PetalWidthCm', 'Species']\n",
      "['1', '5.1', '3.5', '1.4', '0.2', '0']\n",
      "['2', '4.9', '3', '1.4', '0.2', '0']\n",
      "['3', '4.7', '3.2', '1.3', '0.2', '0']\n",
      "['4', '4.6', '3.1', '1.5', '0.2', '0']\n",
      "['5', '5', '3.6', '1.4', '0.2', '0']\n",
      "['6', '5.4', '3.9', '1.7', '0.4', '0']\n",
      "['7', '4.6', '3.4', '1.4', '0.3', '0']\n",
      "['8', '5', '3.4', '1.5', '0.2', '0']\n",
      "['9', '4.4', '2.9', '1.4', '0.2', '0']\n",
      "['10', '4.9', '3.1', '1.5', '0.1', '0']\n",
      "['11', '5.4', '3.7', '1.5', '0.2', '0']\n",
      "['12', '4.8', '3.4', '1.6', '0.2', '0']\n",
      "['13', '4.8', '3', '1.4', '0.1', '0']\n",
      "['14', '4.3', '3', '1.1', '0.1', '0']\n",
      "['15', '5.8', '4', '1.2', '0.2', '0']\n",
      "['16', '5.7', '4.4', '1.5', '0.4', '0']\n",
      "['17', '5.4', '3.9', '1.3', '0.4', '0']\n",
      "['18', '5.1', '3.5', '1.4', '0.3', '0']\n",
      "['19', '5.7', '3.8', '1.7', '0.3', '0']\n",
      "['20', '5.1', '3.8', '1.5', '0.3', '0']\n",
      "['21', '5.4', '3.4', '1.7', '0.2', '0']\n",
      "['22', '5.1', '3.7', '1.5', '0.4', '0']\n",
      "['23', '4.6', '3.6', '1', '0.2', '0']\n",
      "['24', '5.1', '3.3', '1.7', '0.5', '0']\n",
      "['25', '4.8', '3.4', '1.9', '0.2', '0']\n",
      "['26', '5', '3', '1.6', '0.2', '0']\n",
      "['27', '5', '3.4', '1.6', '0.4', '0']\n",
      "['28', '5.2', '3.5', '1.5', '0.2', '0']\n",
      "['29', '5.2', '3.4', '1.4', '0.2', '0']\n",
      "['30', '4.7', '3.2', '1.6', '0.2', '0']\n",
      "['31', '4.8', '3.1', '1.6', '0.2', '0']\n",
      "['32', '5.4', '3.4', '1.5', '0.4', '0']\n",
      "['33', '5.2', '4.1', '1.5', '0.1', '0']\n",
      "['34', '5.5', '4.2', '1.4', '0.2', '0']\n",
      "['35', '4.9', '3.1', '1.5', '0.1', '0']\n",
      "['36', '5', '3.2', '1.2', '0.2', '0']\n",
      "['37', '5.5', '3.5', '1.3', '0.2', '0']\n",
      "['38', '4.9', '3.1', '1.5', '0.1', '0']\n",
      "['39', '4.4', '3', '1.3', '0.2', '0']\n",
      "['40', '5.1', '3.4', '1.5', '0.2', '0']\n",
      "['41', '5', '3.5', '1.3', '0.3', '0']\n",
      "['42', '4.5', '2.3', '1.3', '0.3', '0']\n",
      "['43', '4.4', '3.2', '1.3', '0.2', '0']\n",
      "['44', '5', '3.5', '1.6', '0.6', '0']\n",
      "['45', '5.1', '3.8', '1.9', '0.4', '0']\n",
      "['46', '4.8', '3', '1.4', '0.3', '0']\n",
      "['47', '5.1', '3.8', '1.6', '0.2', '0']\n",
      "['48', '4.6', '3.2', '1.4', '0.2', '0']\n",
      "['49', '5.3', '3.7', '1.5', '0.2', '0']\n",
      "['50', '5', '3.3', '1.4', '0.2', '0']\n",
      "['51', '7', '3.2', '4.7', '1.4', '1']\n",
      "['52', '6.4', '3.2', '4.5', '1.5', '1']\n",
      "['53', '6.9', '3.1', '4.9', '1.5', '1']\n",
      "['54', '5.5', '2.3', '4', '1.3', '1']\n",
      "['55', '6.5', '2.8', '4.6', '1.5', '1']\n",
      "['56', '5.7', '2.8', '4.5', '1.3', '1']\n",
      "['57', '6.3', '3.3', '4.7', '1.6', '1']\n",
      "['58', '4.9', '2.4', '3.3', '1', '1']\n",
      "['59', '6.6', '2.9', '4.6', '1.3', '1']\n",
      "['60', '5.2', '2.7', '3.9', '1.4', '1']\n",
      "['61', '5', '2', '3.5', '1', '1']\n",
      "['62', '5.9', '3', '4.2', '1.5', '1']\n",
      "['63', '6', '2.2', '4', '1', '1']\n",
      "['64', '6.1', '2.9', '4.7', '1.4', '1']\n",
      "['65', '5.6', '2.9', '3.6', '1.3', '1']\n",
      "['66', '6.7', '3.1', '4.4', '1.4', '1']\n",
      "['67', '5.6', '3', '4.5', '1.5', '1']\n",
      "['68', '5.8', '2.7', '4.1', '1', '1']\n",
      "['69', '6.2', '2.2', '4.5', '1.5', '1']\n",
      "['70', '5.6', '2.5', '3.9', '1.1', '1']\n",
      "['71', '5.9', '3.2', '4.8', '1.8', '1']\n",
      "['72', '6.1', '2.8', '4', '1.3', '1']\n",
      "['73', '6.3', '2.5', '4.9', '1.5', '1']\n",
      "['74', '6.1', '2.8', '4.7', '1.2', '1']\n",
      "['75', '6.4', '2.9', '4.3', '1.3', '1']\n",
      "['76', '6.6', '3', '4.4', '1.4', '1']\n",
      "['77', '6.8', '2.8', '4.8', '1.4', '1']\n",
      "['78', '6.7', '3', '5', '1.7', '1']\n",
      "['79', '6', '2.9', '4.5', '1.5', '1']\n",
      "['80', '5.7', '2.6', '3.5', '1', '1']\n",
      "['81', '5.5', '2.4', '3.8', '1.1', '1']\n",
      "['82', '5.5', '2.4', '3.7', '1', '1']\n",
      "['83', '5.8', '2.7', '3.9', '1.2', '1']\n",
      "['84', '6', '2.7', '5.1', '1.6', '1']\n",
      "['85', '5.4', '3', '4.5', '1.5', '1']\n",
      "['86', '6', '3.4', '4.5', '1.6', '1']\n",
      "['87', '6.7', '3.1', '4.7', '1.5', '1']\n",
      "['88', '6.3', '2.3', '4.4', '1.3', '1']\n",
      "['89', '5.6', '3', '4.1', '1.3', '1']\n",
      "['90', '5.5', '2.5', '4', '1.3', '1']\n",
      "['91', '5.5', '2.6', '4.4', '1.2', '1']\n",
      "['92', '6.1', '3', '4.6', '1.4', '1']\n",
      "['93', '5.8', '2.6', '4', '1.2', '1']\n",
      "['94', '5', '2.3', '3.3', '1', '1']\n",
      "['95', '5.6', '2.7', '4.2', '1.3', '1']\n",
      "['96', '5.7', '3', '4.2', '1.2', '1']\n",
      "['97', '5.7', '2.9', '4.2', '1.3', '1']\n",
      "['98', '6.2', '2.9', '4.3', '1.3', '1']\n",
      "['99', '5.1', '2.5', '3', '1.1', '1']\n",
      "['100', '5.7', '2.8', '4.1', '1.3', '1']\n",
      "['101', '6.3', '3.3', '6', '2.5', '2']\n",
      "['102', '5.8', '2.7', '5.1', '1.9', '2']\n",
      "['103', '7.1', '3', '5.9', '2.1', '2']\n",
      "['104', '6.3', '2.9', '5.6', '1.8', '2']\n",
      "['105', '6.5', '3', '5.8', '2.2', '2']\n",
      "['106', '7.6', '3', '6.6', '2.1', '2']\n",
      "['107', '4.9', '2.5', '4.5', '1.7', '2']\n",
      "['108', '7.3', '2.9', '6.3', '1.8', '2']\n",
      "['109', '6.7', '2.5', '5.8', '1.8', '2']\n",
      "['110', '7.2', '3.6', '6.1', '2.5', '2']\n",
      "['111', '6.5', '3.2', '5.1', '2', '2']\n",
      "['112', '6.4', '2.7', '5.3', '1.9', '2']\n",
      "['113', '6.8', '3', '5.5', '2.1', '2']\n",
      "['114', '5.7', '2.5', '5', '2', '2']\n",
      "['115', '5.8', '2.8', '5.1', '2.4', '2']\n",
      "['116', '6.4', '3.2', '5.3', '2.3', '2']\n",
      "['117', '6.5', '3', '5.5', '1.8', '2']\n",
      "['118', '7.7', '3.8', '6.7', '2.2', '2']\n",
      "['119', '7.7', '2.6', '6.9', '2.3', '2']\n",
      "['120', '6', '2.2', '5', '1.5', '2']\n",
      "['121', '6.9', '3.2', '5.7', '2.3', '2']\n",
      "['122', '5.6', '2.8', '4.9', '2', '2']\n",
      "['123', '7.7', '2.8', '6.7', '2', '2']\n",
      "['124', '6.3', '2.7', '4.9', '1.8', '2']\n",
      "['125', '6.7', '3.3', '5.7', '2.1', '2']\n",
      "['126', '7.2', '3.2', '6', '1.8', '2']\n",
      "['127', '6.2', '2.8', '4.8', '1.8', '2']\n",
      "['128', '6.1', '3', '4.9', '1.8', '2']\n",
      "['129', '6.4', '2.8', '5.6', '2.1', '2']\n",
      "['130', '7.2', '3', '5.8', '1.6', '2']\n",
      "['131', '7.4', '2.8', '6.1', '1.9', '2']\n",
      "['132', '7.9', '3.8', '6.4', '2', '2']\n",
      "['133', '6.4', '2.8', '5.6', '2.2', '2']\n",
      "['134', '6.3', '2.8', '5.1', '1.5', '2']\n",
      "['135', '6.1', '2.6', '5.6', '1.4', '2']\n",
      "['136', '7.7', '3', '6.1', '2.3', '2']\n",
      "['137', '6.3', '3.4', '5.6', '2.4', '2']\n",
      "['138', '6.4', '3.1', '5.5', '1.8', '2']\n",
      "['139', '6', '3', '4.8', '1.8', '2']\n",
      "['140', '6.9', '3.1', '5.4', '2.1', '2']\n",
      "['141', '6.7', '3.1', '5.6', '2.4', '2']\n",
      "['142', '6.9', '3.1', '5.1', '2.3', '2']\n",
      "['143', '5.8', '2.7', '5.1', '1.9', '2']\n",
      "['144', '6.8', '3.2', '5.9', '2.3', '2']\n",
      "['145', '6.7', '3.3', '5.7', '2.5', '2']\n",
      "['146', '6.7', '3', '5.2', '2.3', '2']\n",
      "['147', '6.3', '2.5', '5', '1.9', '2']\n",
      "['148', '6.5', '3', '5.2', '2', '2']\n",
      "['149', '6.2', '3.4', '5.4', '2.3', '2']\n",
      "['150', '5.9', '3', '5.1', '1.8', '2']\n"
     ]
    }
   ],
   "source": [
    "with open('iris/iris.csv', newline='') as csvfile:\n",
    "\n",
    "  rows = csv.reader(csvfile)\n",
    "\n",
    "  for row in rows:\n",
    "    print(row)"
   ]
  },
  {
   "cell_type": "markdown",
   "metadata": {},
   "source": [
    "## 2.介紹：\n",
    "### iris資料集裡面塞的是總共150筆的3種鳶尾花，每筆資料記載有以下資訊：\n",
    "#### {SepalLength(花萼長度)、SepalWidth(花萼寬度)、PetalLength(花瓣長度)、PetalWidth(花瓣寬度)、Sepcies(鳶尾花品種)}"
   ]
  },
  {
   "cell_type": "markdown",
   "metadata": {},
   "source": [
    "##  3.資料預處理\n",
    "### 運用pandas處理csv檔案"
   ]
  },
  {
   "cell_type": "code",
   "execution_count": 3,
   "metadata": {},
   "outputs": [],
   "source": [
    "import pandas as pd\n",
    "import numpy as np\n",
    "from io import StringIO"
   ]
  },
  {
   "cell_type": "code",
   "execution_count": 4,
   "metadata": {},
   "outputs": [],
   "source": [
    "iris = pd.read_csv('iris/iris.csv')"
   ]
  },
  {
   "cell_type": "code",
   "execution_count": 5,
   "metadata": {},
   "outputs": [
    {
     "data": {
      "text/html": [
       "<div>\n",
       "<style scoped>\n",
       "    .dataframe tbody tr th:only-of-type {\n",
       "        vertical-align: middle;\n",
       "    }\n",
       "\n",
       "    .dataframe tbody tr th {\n",
       "        vertical-align: top;\n",
       "    }\n",
       "\n",
       "    .dataframe thead th {\n",
       "        text-align: right;\n",
       "    }\n",
       "</style>\n",
       "<table border=\"1\" class=\"dataframe\">\n",
       "  <thead>\n",
       "    <tr style=\"text-align: right;\">\n",
       "      <th></th>\n",
       "      <th>Id</th>\n",
       "      <th>SepalLengthCm</th>\n",
       "      <th>SepalWidthCm</th>\n",
       "      <th>PetalLengthCm</th>\n",
       "      <th>PetalWidthCm</th>\n",
       "      <th>Species</th>\n",
       "    </tr>\n",
       "  </thead>\n",
       "  <tbody>\n",
       "    <tr>\n",
       "      <th>0</th>\n",
       "      <td>1</td>\n",
       "      <td>5.1</td>\n",
       "      <td>3.5</td>\n",
       "      <td>1.4</td>\n",
       "      <td>0.2</td>\n",
       "      <td>0</td>\n",
       "    </tr>\n",
       "    <tr>\n",
       "      <th>1</th>\n",
       "      <td>2</td>\n",
       "      <td>4.9</td>\n",
       "      <td>3.0</td>\n",
       "      <td>1.4</td>\n",
       "      <td>0.2</td>\n",
       "      <td>0</td>\n",
       "    </tr>\n",
       "    <tr>\n",
       "      <th>2</th>\n",
       "      <td>3</td>\n",
       "      <td>4.7</td>\n",
       "      <td>3.2</td>\n",
       "      <td>1.3</td>\n",
       "      <td>0.2</td>\n",
       "      <td>0</td>\n",
       "    </tr>\n",
       "    <tr>\n",
       "      <th>3</th>\n",
       "      <td>4</td>\n",
       "      <td>4.6</td>\n",
       "      <td>3.1</td>\n",
       "      <td>1.5</td>\n",
       "      <td>0.2</td>\n",
       "      <td>0</td>\n",
       "    </tr>\n",
       "    <tr>\n",
       "      <th>4</th>\n",
       "      <td>5</td>\n",
       "      <td>5.0</td>\n",
       "      <td>3.6</td>\n",
       "      <td>1.4</td>\n",
       "      <td>0.2</td>\n",
       "      <td>0</td>\n",
       "    </tr>\n",
       "    <tr>\n",
       "      <th>...</th>\n",
       "      <td>...</td>\n",
       "      <td>...</td>\n",
       "      <td>...</td>\n",
       "      <td>...</td>\n",
       "      <td>...</td>\n",
       "      <td>...</td>\n",
       "    </tr>\n",
       "    <tr>\n",
       "      <th>145</th>\n",
       "      <td>146</td>\n",
       "      <td>6.7</td>\n",
       "      <td>3.0</td>\n",
       "      <td>5.2</td>\n",
       "      <td>2.3</td>\n",
       "      <td>2</td>\n",
       "    </tr>\n",
       "    <tr>\n",
       "      <th>146</th>\n",
       "      <td>147</td>\n",
       "      <td>6.3</td>\n",
       "      <td>2.5</td>\n",
       "      <td>5.0</td>\n",
       "      <td>1.9</td>\n",
       "      <td>2</td>\n",
       "    </tr>\n",
       "    <tr>\n",
       "      <th>147</th>\n",
       "      <td>148</td>\n",
       "      <td>6.5</td>\n",
       "      <td>3.0</td>\n",
       "      <td>5.2</td>\n",
       "      <td>2.0</td>\n",
       "      <td>2</td>\n",
       "    </tr>\n",
       "    <tr>\n",
       "      <th>148</th>\n",
       "      <td>149</td>\n",
       "      <td>6.2</td>\n",
       "      <td>3.4</td>\n",
       "      <td>5.4</td>\n",
       "      <td>2.3</td>\n",
       "      <td>2</td>\n",
       "    </tr>\n",
       "    <tr>\n",
       "      <th>149</th>\n",
       "      <td>150</td>\n",
       "      <td>5.9</td>\n",
       "      <td>3.0</td>\n",
       "      <td>5.1</td>\n",
       "      <td>1.8</td>\n",
       "      <td>2</td>\n",
       "    </tr>\n",
       "  </tbody>\n",
       "</table>\n",
       "<p>150 rows × 6 columns</p>\n",
       "</div>"
      ],
      "text/plain": [
       "      Id  SepalLengthCm  SepalWidthCm  PetalLengthCm  PetalWidthCm  Species\n",
       "0      1            5.1           3.5            1.4           0.2        0\n",
       "1      2            4.9           3.0            1.4           0.2        0\n",
       "2      3            4.7           3.2            1.3           0.2        0\n",
       "3      4            4.6           3.1            1.5           0.2        0\n",
       "4      5            5.0           3.6            1.4           0.2        0\n",
       "..   ...            ...           ...            ...           ...      ...\n",
       "145  146            6.7           3.0            5.2           2.3        2\n",
       "146  147            6.3           2.5            5.0           1.9        2\n",
       "147  148            6.5           3.0            5.2           2.0        2\n",
       "148  149            6.2           3.4            5.4           2.3        2\n",
       "149  150            5.9           3.0            5.1           1.8        2\n",
       "\n",
       "[150 rows x 6 columns]"
      ]
     },
     "execution_count": 5,
     "metadata": {},
     "output_type": "execute_result"
    }
   ],
   "source": [
    "iris"
   ]
  },
  {
   "cell_type": "markdown",
   "metadata": {},
   "source": [
    "### 用X來儲存鳶尾花的長度、寬度等資料，當作Feature特徵值。\n",
    "### 用Y來儲存鳶尾花的品種名稱，當作Label資料類別。"
   ]
  },
  {
   "cell_type": "code",
   "execution_count": 6,
   "metadata": {},
   "outputs": [],
   "source": [
    "X = iris.drop(columns=['Id','Species'])\n",
    "Y = iris.drop(columns=['Id','SepalLengthCm','SepalWidthCm','PetalLengthCm','PetalWidthCm'])"
   ]
  },
  {
   "cell_type": "code",
   "execution_count": 7,
   "metadata": {
    "scrolled": true
   },
   "outputs": [
    {
     "data": {
      "text/html": [
       "<div>\n",
       "<style scoped>\n",
       "    .dataframe tbody tr th:only-of-type {\n",
       "        vertical-align: middle;\n",
       "    }\n",
       "\n",
       "    .dataframe tbody tr th {\n",
       "        vertical-align: top;\n",
       "    }\n",
       "\n",
       "    .dataframe thead th {\n",
       "        text-align: right;\n",
       "    }\n",
       "</style>\n",
       "<table border=\"1\" class=\"dataframe\">\n",
       "  <thead>\n",
       "    <tr style=\"text-align: right;\">\n",
       "      <th></th>\n",
       "      <th>Species</th>\n",
       "    </tr>\n",
       "  </thead>\n",
       "  <tbody>\n",
       "    <tr>\n",
       "      <th>0</th>\n",
       "      <td>0</td>\n",
       "    </tr>\n",
       "    <tr>\n",
       "      <th>1</th>\n",
       "      <td>0</td>\n",
       "    </tr>\n",
       "    <tr>\n",
       "      <th>2</th>\n",
       "      <td>0</td>\n",
       "    </tr>\n",
       "    <tr>\n",
       "      <th>3</th>\n",
       "      <td>0</td>\n",
       "    </tr>\n",
       "    <tr>\n",
       "      <th>4</th>\n",
       "      <td>0</td>\n",
       "    </tr>\n",
       "    <tr>\n",
       "      <th>...</th>\n",
       "      <td>...</td>\n",
       "    </tr>\n",
       "    <tr>\n",
       "      <th>145</th>\n",
       "      <td>2</td>\n",
       "    </tr>\n",
       "    <tr>\n",
       "      <th>146</th>\n",
       "      <td>2</td>\n",
       "    </tr>\n",
       "    <tr>\n",
       "      <th>147</th>\n",
       "      <td>2</td>\n",
       "    </tr>\n",
       "    <tr>\n",
       "      <th>148</th>\n",
       "      <td>2</td>\n",
       "    </tr>\n",
       "    <tr>\n",
       "      <th>149</th>\n",
       "      <td>2</td>\n",
       "    </tr>\n",
       "  </tbody>\n",
       "</table>\n",
       "<p>150 rows × 1 columns</p>\n",
       "</div>"
      ],
      "text/plain": [
       "     Species\n",
       "0          0\n",
       "1          0\n",
       "2          0\n",
       "3          0\n",
       "4          0\n",
       "..       ...\n",
       "145        2\n",
       "146        2\n",
       "147        2\n",
       "148        2\n",
       "149        2\n",
       "\n",
       "[150 rows x 1 columns]"
      ]
     },
     "execution_count": 7,
     "metadata": {},
     "output_type": "execute_result"
    }
   ],
   "source": [
    "Y"
   ]
  },
  {
   "cell_type": "markdown",
   "metadata": {},
   "source": [
    "### 將X與Y做訓練與測試資料的切割。"
   ]
  },
  {
   "cell_type": "code",
   "execution_count": 8,
   "metadata": {},
   "outputs": [],
   "source": [
    "from sklearn.model_selection import train_test_split\n",
    "\n",
    "X_train,X_test,Y_train,Y_test = train_test_split(X, Y, test_size=0.3)"
   ]
  },
  {
   "cell_type": "code",
   "execution_count": 9,
   "metadata": {},
   "outputs": [
    {
     "data": {
      "text/html": [
       "<div>\n",
       "<style scoped>\n",
       "    .dataframe tbody tr th:only-of-type {\n",
       "        vertical-align: middle;\n",
       "    }\n",
       "\n",
       "    .dataframe tbody tr th {\n",
       "        vertical-align: top;\n",
       "    }\n",
       "\n",
       "    .dataframe thead th {\n",
       "        text-align: right;\n",
       "    }\n",
       "</style>\n",
       "<table border=\"1\" class=\"dataframe\">\n",
       "  <thead>\n",
       "    <tr style=\"text-align: right;\">\n",
       "      <th></th>\n",
       "      <th>Species</th>\n",
       "    </tr>\n",
       "  </thead>\n",
       "  <tbody>\n",
       "    <tr>\n",
       "      <th>119</th>\n",
       "      <td>2</td>\n",
       "    </tr>\n",
       "    <tr>\n",
       "      <th>137</th>\n",
       "      <td>2</td>\n",
       "    </tr>\n",
       "    <tr>\n",
       "      <th>35</th>\n",
       "      <td>0</td>\n",
       "    </tr>\n",
       "    <tr>\n",
       "      <th>4</th>\n",
       "      <td>0</td>\n",
       "    </tr>\n",
       "    <tr>\n",
       "      <th>3</th>\n",
       "      <td>0</td>\n",
       "    </tr>\n",
       "    <tr>\n",
       "      <th>...</th>\n",
       "      <td>...</td>\n",
       "    </tr>\n",
       "    <tr>\n",
       "      <th>76</th>\n",
       "      <td>1</td>\n",
       "    </tr>\n",
       "    <tr>\n",
       "      <th>15</th>\n",
       "      <td>0</td>\n",
       "    </tr>\n",
       "    <tr>\n",
       "      <th>94</th>\n",
       "      <td>1</td>\n",
       "    </tr>\n",
       "    <tr>\n",
       "      <th>37</th>\n",
       "      <td>0</td>\n",
       "    </tr>\n",
       "    <tr>\n",
       "      <th>80</th>\n",
       "      <td>1</td>\n",
       "    </tr>\n",
       "  </tbody>\n",
       "</table>\n",
       "<p>105 rows × 1 columns</p>\n",
       "</div>"
      ],
      "text/plain": [
       "     Species\n",
       "119        2\n",
       "137        2\n",
       "35         0\n",
       "4          0\n",
       "3          0\n",
       "..       ...\n",
       "76         1\n",
       "15         0\n",
       "94         1\n",
       "37         0\n",
       "80         1\n",
       "\n",
       "[105 rows x 1 columns]"
      ]
     },
     "execution_count": 9,
     "metadata": {},
     "output_type": "execute_result"
    }
   ],
   "source": [
    "Y_train"
   ]
  },
  {
   "cell_type": "markdown",
   "metadata": {},
   "source": [
    "### 將Y的訓練與測試資料做OneHotEncoding。"
   ]
  },
  {
   "cell_type": "code",
   "execution_count": 10,
   "metadata": {},
   "outputs": [
    {
     "name": "stderr",
     "output_type": "stream",
     "text": [
      "Using TensorFlow backend.\n",
      "D:\\anaconda\\ac\\lib\\site-packages\\tensorflow\\python\\framework\\dtypes.py:516: FutureWarning: Passing (type, 1) or '1type' as a synonym of type is deprecated; in a future version of numpy, it will be understood as (type, (1,)) / '(1,)type'.\n",
      "  _np_qint8 = np.dtype([(\"qint8\", np.int8, 1)])\n",
      "D:\\anaconda\\ac\\lib\\site-packages\\tensorflow\\python\\framework\\dtypes.py:517: FutureWarning: Passing (type, 1) or '1type' as a synonym of type is deprecated; in a future version of numpy, it will be understood as (type, (1,)) / '(1,)type'.\n",
      "  _np_quint8 = np.dtype([(\"quint8\", np.uint8, 1)])\n",
      "D:\\anaconda\\ac\\lib\\site-packages\\tensorflow\\python\\framework\\dtypes.py:518: FutureWarning: Passing (type, 1) or '1type' as a synonym of type is deprecated; in a future version of numpy, it will be understood as (type, (1,)) / '(1,)type'.\n",
      "  _np_qint16 = np.dtype([(\"qint16\", np.int16, 1)])\n",
      "D:\\anaconda\\ac\\lib\\site-packages\\tensorflow\\python\\framework\\dtypes.py:519: FutureWarning: Passing (type, 1) or '1type' as a synonym of type is deprecated; in a future version of numpy, it will be understood as (type, (1,)) / '(1,)type'.\n",
      "  _np_quint16 = np.dtype([(\"quint16\", np.uint16, 1)])\n",
      "D:\\anaconda\\ac\\lib\\site-packages\\tensorflow\\python\\framework\\dtypes.py:520: FutureWarning: Passing (type, 1) or '1type' as a synonym of type is deprecated; in a future version of numpy, it will be understood as (type, (1,)) / '(1,)type'.\n",
      "  _np_qint32 = np.dtype([(\"qint32\", np.int32, 1)])\n",
      "D:\\anaconda\\ac\\lib\\site-packages\\tensorflow\\python\\framework\\dtypes.py:525: FutureWarning: Passing (type, 1) or '1type' as a synonym of type is deprecated; in a future version of numpy, it will be understood as (type, (1,)) / '(1,)type'.\n",
      "  np_resource = np.dtype([(\"resource\", np.ubyte, 1)])\n",
      "D:\\anaconda\\ac\\lib\\site-packages\\tensorboard\\compat\\tensorflow_stub\\dtypes.py:541: FutureWarning: Passing (type, 1) or '1type' as a synonym of type is deprecated; in a future version of numpy, it will be understood as (type, (1,)) / '(1,)type'.\n",
      "  _np_qint8 = np.dtype([(\"qint8\", np.int8, 1)])\n",
      "D:\\anaconda\\ac\\lib\\site-packages\\tensorboard\\compat\\tensorflow_stub\\dtypes.py:542: FutureWarning: Passing (type, 1) or '1type' as a synonym of type is deprecated; in a future version of numpy, it will be understood as (type, (1,)) / '(1,)type'.\n",
      "  _np_quint8 = np.dtype([(\"quint8\", np.uint8, 1)])\n",
      "D:\\anaconda\\ac\\lib\\site-packages\\tensorboard\\compat\\tensorflow_stub\\dtypes.py:543: FutureWarning: Passing (type, 1) or '1type' as a synonym of type is deprecated; in a future version of numpy, it will be understood as (type, (1,)) / '(1,)type'.\n",
      "  _np_qint16 = np.dtype([(\"qint16\", np.int16, 1)])\n",
      "D:\\anaconda\\ac\\lib\\site-packages\\tensorboard\\compat\\tensorflow_stub\\dtypes.py:544: FutureWarning: Passing (type, 1) or '1type' as a synonym of type is deprecated; in a future version of numpy, it will be understood as (type, (1,)) / '(1,)type'.\n",
      "  _np_quint16 = np.dtype([(\"quint16\", np.uint16, 1)])\n",
      "D:\\anaconda\\ac\\lib\\site-packages\\tensorboard\\compat\\tensorflow_stub\\dtypes.py:545: FutureWarning: Passing (type, 1) or '1type' as a synonym of type is deprecated; in a future version of numpy, it will be understood as (type, (1,)) / '(1,)type'.\n",
      "  _np_qint32 = np.dtype([(\"qint32\", np.int32, 1)])\n",
      "D:\\anaconda\\ac\\lib\\site-packages\\tensorboard\\compat\\tensorflow_stub\\dtypes.py:550: FutureWarning: Passing (type, 1) or '1type' as a synonym of type is deprecated; in a future version of numpy, it will be understood as (type, (1,)) / '(1,)type'.\n",
      "  np_resource = np.dtype([(\"resource\", np.ubyte, 1)])\n"
     ]
    }
   ],
   "source": [
    "from keras.utils import np_utils\n",
    "from sklearn.preprocessing import OneHotEncoder\n",
    "\n",
    "Y_train_OneHot = np_utils.to_categorical(Y_train)\n",
    "Y_test_OneHot = np_utils.to_categorical(Y_test)"
   ]
  },
  {
   "cell_type": "code",
   "execution_count": 11,
   "metadata": {},
   "outputs": [
    {
     "data": {
      "text/plain": [
       "array([[1., 0., 0.],\n",
       "       [1., 0., 0.],\n",
       "       [0., 1., 0.],\n",
       "       [0., 0., 1.],\n",
       "       [0., 0., 1.],\n",
       "       [0., 0., 1.],\n",
       "       [1., 0., 0.],\n",
       "       [1., 0., 0.],\n",
       "       [0., 0., 1.],\n",
       "       [0., 0., 1.],\n",
       "       [0., 1., 0.],\n",
       "       [1., 0., 0.],\n",
       "       [0., 1., 0.],\n",
       "       [0., 1., 0.],\n",
       "       [1., 0., 0.],\n",
       "       [1., 0., 0.],\n",
       "       [0., 0., 1.],\n",
       "       [1., 0., 0.],\n",
       "       [0., 0., 1.],\n",
       "       [0., 1., 0.],\n",
       "       [0., 1., 0.],\n",
       "       [0., 1., 0.],\n",
       "       [1., 0., 0.],\n",
       "       [0., 0., 1.],\n",
       "       [0., 0., 1.],\n",
       "       [1., 0., 0.],\n",
       "       [0., 1., 0.],\n",
       "       [0., 0., 1.],\n",
       "       [0., 0., 1.],\n",
       "       [0., 0., 1.],\n",
       "       [0., 0., 1.],\n",
       "       [0., 0., 1.],\n",
       "       [0., 1., 0.],\n",
       "       [0., 1., 0.],\n",
       "       [0., 1., 0.],\n",
       "       [0., 0., 1.],\n",
       "       [0., 1., 0.],\n",
       "       [0., 0., 1.],\n",
       "       [0., 0., 1.],\n",
       "       [1., 0., 0.],\n",
       "       [0., 0., 1.],\n",
       "       [0., 0., 1.],\n",
       "       [0., 0., 1.],\n",
       "       [0., 1., 0.],\n",
       "       [0., 1., 0.]], dtype=float32)"
      ]
     },
     "execution_count": 11,
     "metadata": {},
     "output_type": "execute_result"
    }
   ],
   "source": [
    "Y_test_OneHot"
   ]
  },
  {
   "cell_type": "markdown",
   "metadata": {},
   "source": [
    "## 4.建立模型\n",
    "### 匯入模組"
   ]
  },
  {
   "cell_type": "code",
   "execution_count": 12,
   "metadata": {},
   "outputs": [],
   "source": [
    "from keras.models import Sequential\n",
    "from keras.layers import Dense\n",
    "from keras.layers import Dropout"
   ]
  },
  {
   "cell_type": "code",
   "execution_count": 13,
   "metadata": {},
   "outputs": [],
   "source": [
    "model = Sequential()"
   ]
  },
  {
   "cell_type": "markdown",
   "metadata": {},
   "source": [
    "### 建立輸入層"
   ]
  },
  {
   "cell_type": "code",
   "execution_count": 14,
   "metadata": {},
   "outputs": [],
   "source": [
    "model.add(Dense(units=105,input_dim=4,kernel_initializer='normal',activation='relu'))"
   ]
  },
  {
   "cell_type": "markdown",
   "metadata": {},
   "source": [
    "#### 加入Dropout，防止overfitting。"
   ]
  },
  {
   "cell_type": "code",
   "execution_count": 15,
   "metadata": {},
   "outputs": [],
   "source": [
    "model.add(Dropout(0.2))"
   ]
  },
  {
   "cell_type": "markdown",
   "metadata": {},
   "source": [
    "### 建立輸出層"
   ]
  },
  {
   "cell_type": "code",
   "execution_count": 16,
   "metadata": {},
   "outputs": [],
   "source": [
    "model.add(Dense(units=3,kernel_initializer='normal',activation='softmax'))"
   ]
  },
  {
   "cell_type": "markdown",
   "metadata": {},
   "source": [
    "## 5.開始訓練"
   ]
  },
  {
   "cell_type": "code",
   "execution_count": 17,
   "metadata": {},
   "outputs": [],
   "source": [
    "model.compile(loss='categorical_crossentropy',optimizer='adam',metrics=['accuracy'])"
   ]
  },
  {
   "cell_type": "code",
   "execution_count": 18,
   "metadata": {},
   "outputs": [
    {
     "name": "stdout",
     "output_type": "stream",
     "text": [
      "WARNING:tensorflow:From D:\\anaconda\\ac\\lib\\site-packages\\keras\\backend\\tensorflow_backend.py:422: The name tf.global_variables is deprecated. Please use tf.compat.v1.global_variables instead.\n",
      "\n",
      "Train on 73 samples, validate on 32 samples\n",
      "Epoch 1/30\n",
      " - 0s - loss: 1.0859 - accuracy: 0.3699 - val_loss: 1.0630 - val_accuracy: 0.6875\n",
      "Epoch 2/30\n",
      " - 0s - loss: 1.0633 - accuracy: 0.4247 - val_loss: 1.0463 - val_accuracy: 0.7188\n",
      "Epoch 3/30\n",
      " - 0s - loss: 1.0341 - accuracy: 0.5753 - val_loss: 1.0304 - val_accuracy: 0.7188\n",
      "Epoch 4/30\n",
      " - 0s - loss: 1.0405 - accuracy: 0.4521 - val_loss: 1.0135 - val_accuracy: 0.7812\n",
      "Epoch 5/30\n",
      " - 0s - loss: 1.0042 - accuracy: 0.6164 - val_loss: 0.9957 - val_accuracy: 0.7188\n",
      "Epoch 6/30\n",
      " - 0s - loss: 0.9835 - accuracy: 0.6712 - val_loss: 0.9761 - val_accuracy: 0.7188\n",
      "Epoch 7/30\n",
      " - 0s - loss: 0.9794 - accuracy: 0.6575 - val_loss: 0.9556 - val_accuracy: 0.7188\n",
      "Epoch 8/30\n",
      " - 0s - loss: 0.9509 - accuracy: 0.6575 - val_loss: 0.9351 - val_accuracy: 0.9062\n",
      "Epoch 9/30\n",
      " - 0s - loss: 0.9305 - accuracy: 0.7808 - val_loss: 0.9143 - val_accuracy: 0.9688\n",
      "Epoch 10/30\n",
      " - 0s - loss: 0.8990 - accuracy: 0.7945 - val_loss: 0.8909 - val_accuracy: 0.9375\n",
      "Epoch 11/30\n",
      " - 0s - loss: 0.8758 - accuracy: 0.7397 - val_loss: 0.8669 - val_accuracy: 0.9062\n",
      "Epoch 12/30\n",
      " - 0s - loss: 0.8776 - accuracy: 0.6712 - val_loss: 0.8414 - val_accuracy: 0.8750\n",
      "Epoch 13/30\n",
      " - 0s - loss: 0.8426 - accuracy: 0.7260 - val_loss: 0.8160 - val_accuracy: 0.9062\n",
      "Epoch 14/30\n",
      " - 0s - loss: 0.8193 - accuracy: 0.7671 - val_loss: 0.7892 - val_accuracy: 0.9375\n",
      "Epoch 15/30\n",
      " - 0s - loss: 0.7891 - accuracy: 0.6986 - val_loss: 0.7637 - val_accuracy: 0.8750\n",
      "Epoch 16/30\n",
      " - 0s - loss: 0.7658 - accuracy: 0.8767 - val_loss: 0.7384 - val_accuracy: 0.7812\n",
      "Epoch 17/30\n",
      " - 0s - loss: 0.7403 - accuracy: 0.7397 - val_loss: 0.7131 - val_accuracy: 0.7812\n",
      "Epoch 18/30\n",
      " - 0s - loss: 0.7124 - accuracy: 0.7808 - val_loss: 0.6865 - val_accuracy: 0.9375\n",
      "Epoch 19/30\n",
      " - 0s - loss: 0.7050 - accuracy: 0.7945 - val_loss: 0.6621 - val_accuracy: 0.9688\n",
      "Epoch 20/30\n",
      " - 0s - loss: 0.6679 - accuracy: 0.9178 - val_loss: 0.6392 - val_accuracy: 0.9688\n",
      "Epoch 21/30\n",
      " - 0s - loss: 0.6499 - accuracy: 0.8356 - val_loss: 0.6178 - val_accuracy: 0.9375\n",
      "Epoch 22/30\n",
      " - 0s - loss: 0.6266 - accuracy: 0.8493 - val_loss: 0.5978 - val_accuracy: 0.9375\n",
      "Epoch 23/30\n",
      " - 0s - loss: 0.6118 - accuracy: 0.7945 - val_loss: 0.5778 - val_accuracy: 0.9375\n",
      "Epoch 24/30\n",
      " - 0s - loss: 0.6012 - accuracy: 0.8630 - val_loss: 0.5592 - val_accuracy: 0.9375\n",
      "Epoch 25/30\n",
      " - 0s - loss: 0.5747 - accuracy: 0.8356 - val_loss: 0.5427 - val_accuracy: 0.9688\n",
      "Epoch 26/30\n",
      " - 0s - loss: 0.5806 - accuracy: 0.8630 - val_loss: 0.5274 - val_accuracy: 0.9688\n",
      "Epoch 27/30\n",
      " - 0s - loss: 0.5445 - accuracy: 0.9178 - val_loss: 0.5137 - val_accuracy: 0.9375\n",
      "Epoch 28/30\n",
      " - 0s - loss: 0.5480 - accuracy: 0.8904 - val_loss: 0.5010 - val_accuracy: 0.9375\n",
      "Epoch 29/30\n",
      " - 0s - loss: 0.5110 - accuracy: 0.8630 - val_loss: 0.4890 - val_accuracy: 0.9375\n",
      "Epoch 30/30\n",
      " - 0s - loss: 0.5098 - accuracy: 0.9041 - val_loss: 0.4780 - val_accuracy: 0.9375\n"
     ]
    }
   ],
   "source": [
    "train_history = model.fit(x=X_train,y=Y_train_OneHot,validation_split=0.3,epochs=30,batch_size=20,verbose=2)"
   ]
  },
  {
   "cell_type": "markdown",
   "metadata": {},
   "source": [
    "### 用圖檢視"
   ]
  },
  {
   "cell_type": "code",
   "execution_count": 19,
   "metadata": {},
   "outputs": [],
   "source": [
    "import matplotlib.pyplot as plt\n",
    "def show_train(train_history,accuracy,validation):\n",
    "    plt.plot(train_history.history[accuracy])\n",
    "    plt.plot(train_history.history[validation])\n",
    "    plt.title('Train History')\n",
    "    plt.ylabel(accuracy)\n",
    "    plt.xlabel('Epoch')\n",
    "    plt.legend(['train','validation'],loc='upper left')\n",
    "    plt.show()"
   ]
  },
  {
   "cell_type": "code",
   "execution_count": 20,
   "metadata": {},
   "outputs": [
    {
     "data": {
      "image/png": "[encoded data removed]",
      "text/plain": [
       "<Figure size 432x288 with 1 Axes>"
      ]
     },
     "metadata": {
      "needs_background": "light"
     },
     "output_type": "display_data"
    }
   ],
   "source": [
    "show_train(train_history,'accuracy','val_accuracy')"
   ]
  },
  {
   "cell_type": "markdown",
   "metadata": {},
   "source": [
    "## 6.用測試資料作準確率比對"
   ]
  },
  {
   "cell_type": "code",
   "execution_count": 21,
   "metadata": {},
   "outputs": [
    {
     "name": "stdout",
     "output_type": "stream",
     "text": [
      "45/45 [==============================] - 0s 44us/step\n",
      "\n",
      "accuracy= 0.9777777791023254\n"
     ]
    }
   ],
   "source": [
    "scores = model.evaluate(X_test,Y_test_OneHot)\n",
    "print()\n",
    "print('accuracy=',scores[1])"
   ]
  },
  {
   "cell_type": "markdown",
   "metadata": {},
   "source": [
    "## 7.進行預測"
   ]
  },
  {
   "cell_type": "code",
   "execution_count": 22,
   "metadata": {},
   "outputs": [],
   "source": [
    "prediction = model.predict_classes(X_test)"
   ]
  },
  {
   "cell_type": "code",
   "execution_count": 23,
   "metadata": {},
   "outputs": [
    {
     "data": {
      "text/plain": [
       "array([0, 0, 1, 2, 2, 2, 0, 0, 2, 2, 1, 0, 1, 1, 0, 0, 2, 0, 2, 1, 2, 1,\n",
       "       0, 2, 2, 0, 1, 2, 2, 2, 2, 2, 1, 1, 1, 2, 1, 2, 2, 0, 2, 2, 2, 1,\n",
       "       1], dtype=int64)"
      ]
     },
     "execution_count": 23,
     "metadata": {},
     "output_type": "execute_result"
    }
   ],
   "source": [
    "prediction"
   ]
  },
  {
   "cell_type": "markdown",
   "metadata": {},
   "source": [
    "## 8.混淆矩陣(Confusion matrix)"
   ]
  },
  {
   "cell_type": "markdown",
   "metadata": {},
   "source": [
    "#### 由於Y_test在前面是用pandas做出來的dataframe表格()，而predicition本身是一維陣列，所以必須先將Y_test轉為一維陣列。"
   ]
  },
  {
   "cell_type": "code",
   "execution_count": 24,
   "metadata": {},
   "outputs": [
    {
     "data": {
      "text/plain": [
       "((45, 1), (45,))"
      ]
     },
     "execution_count": 24,
     "metadata": {},
     "output_type": "execute_result"
    }
   ],
   "source": [
    "Y_test.shape,prediction.shape"
   ]
  },
  {
   "cell_type": "code",
   "execution_count": 25,
   "metadata": {},
   "outputs": [],
   "source": [
    "Y_test_array = Y_test.values"
   ]
  },
  {
   "cell_type": "code",
   "execution_count": 26,
   "metadata": {},
   "outputs": [
    {
     "data": {
      "text/plain": [
       "array([[0],\n",
       "       [0],\n",
       "       [1],\n",
       "       [2],\n",
       "       [2],\n",
       "       [2],\n",
       "       [0],\n",
       "       [0],\n",
       "       [2],\n",
       "       [2],\n",
       "       [1],\n",
       "       [0],\n",
       "       [1],\n",
       "       [1],\n",
       "       [0],\n",
       "       [0],\n",
       "       [2],\n",
       "       [0],\n",
       "       [2],\n",
       "       [1],\n",
       "       [1],\n",
       "       [1],\n",
       "       [0],\n",
       "       [2],\n",
       "       [2],\n",
       "       [0],\n",
       "       [1],\n",
       "       [2],\n",
       "       [2],\n",
       "       [2],\n",
       "       [2],\n",
       "       [2],\n",
       "       [1],\n",
       "       [1],\n",
       "       [1],\n",
       "       [2],\n",
       "       [1],\n",
       "       [2],\n",
       "       [2],\n",
       "       [0],\n",
       "       [2],\n",
       "       [2],\n",
       "       [2],\n",
       "       [1],\n",
       "       [1]], dtype=int64)"
      ]
     },
     "execution_count": 26,
     "metadata": {},
     "output_type": "execute_result"
    }
   ],
   "source": [
    "Y_test_array"
   ]
  },
  {
   "cell_type": "markdown",
   "metadata": {},
   "source": [
    "#### 下面再將Y_test轉為橫向。"
   ]
  },
  {
   "cell_type": "code",
   "execution_count": 27,
   "metadata": {},
   "outputs": [],
   "source": [
    "Y_test_arrayflat = Y_test_array.flatten()"
   ]
  },
  {
   "cell_type": "code",
   "execution_count": 28,
   "metadata": {},
   "outputs": [
    {
     "data": {
      "text/html": [
       "<div>\n",
       "<style scoped>\n",
       "    .dataframe tbody tr th:only-of-type {\n",
       "        vertical-align: middle;\n",
       "    }\n",
       "\n",
       "    .dataframe tbody tr th {\n",
       "        vertical-align: top;\n",
       "    }\n",
       "\n",
       "    .dataframe thead th {\n",
       "        text-align: right;\n",
       "    }\n",
       "</style>\n",
       "<table border=\"1\" class=\"dataframe\">\n",
       "  <thead>\n",
       "    <tr style=\"text-align: right;\">\n",
       "      <th>predict</th>\n",
       "      <th>0</th>\n",
       "      <th>1</th>\n",
       "      <th>2</th>\n",
       "    </tr>\n",
       "    <tr>\n",
       "      <th>label</th>\n",
       "      <th></th>\n",
       "      <th></th>\n",
       "      <th></th>\n",
       "    </tr>\n",
       "  </thead>\n",
       "  <tbody>\n",
       "    <tr>\n",
       "      <th>0</th>\n",
       "      <td>11</td>\n",
       "      <td>0</td>\n",
       "      <td>0</td>\n",
       "    </tr>\n",
       "    <tr>\n",
       "      <th>1</th>\n",
       "      <td>0</td>\n",
       "      <td>13</td>\n",
       "      <td>1</td>\n",
       "    </tr>\n",
       "    <tr>\n",
       "      <th>2</th>\n",
       "      <td>0</td>\n",
       "      <td>0</td>\n",
       "      <td>20</td>\n",
       "    </tr>\n",
       "  </tbody>\n",
       "</table>\n",
       "</div>"
      ],
      "text/plain": [
       "predict   0   1   2\n",
       "label              \n",
       "0        11   0   0\n",
       "1         0  13   1\n",
       "2         0   0  20"
      ]
     },
     "execution_count": 28,
     "metadata": {},
     "output_type": "execute_result"
    }
   ],
   "source": [
    "pd.crosstab(Y_test_arrayflat,prediction,rownames=['label'],colnames=['predict'])"
   ]
  },
  {
   "cell_type": "code",
   "execution_count": 29,
   "metadata": {},
   "outputs": [
    {
     "data": {
      "text/html": [
       "<div>\n",
       "<style scoped>\n",
       "    .dataframe tbody tr th:only-of-type {\n",
       "        vertical-align: middle;\n",
       "    }\n",
       "\n",
       "    .dataframe tbody tr th {\n",
       "        vertical-align: top;\n",
       "    }\n",
       "\n",
       "    .dataframe thead th {\n",
       "        text-align: right;\n",
       "    }\n",
       "</style>\n",
       "<table border=\"1\" class=\"dataframe\">\n",
       "  <thead>\n",
       "    <tr style=\"text-align: right;\">\n",
       "      <th></th>\n",
       "      <th>label</th>\n",
       "      <th>predict</th>\n",
       "    </tr>\n",
       "  </thead>\n",
       "  <tbody>\n",
       "    <tr>\n",
       "      <th>0</th>\n",
       "      <td>0</td>\n",
       "      <td>0</td>\n",
       "    </tr>\n",
       "    <tr>\n",
       "      <th>1</th>\n",
       "      <td>0</td>\n",
       "      <td>0</td>\n",
       "    </tr>\n",
       "    <tr>\n",
       "      <th>2</th>\n",
       "      <td>1</td>\n",
       "      <td>1</td>\n",
       "    </tr>\n",
       "    <tr>\n",
       "      <th>3</th>\n",
       "      <td>2</td>\n",
       "      <td>2</td>\n",
       "    </tr>\n",
       "    <tr>\n",
       "      <th>4</th>\n",
       "      <td>2</td>\n",
       "      <td>2</td>\n",
       "    </tr>\n",
       "    <tr>\n",
       "      <th>5</th>\n",
       "      <td>2</td>\n",
       "      <td>2</td>\n",
       "    </tr>\n",
       "    <tr>\n",
       "      <th>6</th>\n",
       "      <td>0</td>\n",
       "      <td>0</td>\n",
       "    </tr>\n",
       "    <tr>\n",
       "      <th>7</th>\n",
       "      <td>0</td>\n",
       "      <td>0</td>\n",
       "    </tr>\n",
       "    <tr>\n",
       "      <th>8</th>\n",
       "      <td>2</td>\n",
       "      <td>2</td>\n",
       "    </tr>\n",
       "    <tr>\n",
       "      <th>9</th>\n",
       "      <td>2</td>\n",
       "      <td>2</td>\n",
       "    </tr>\n",
       "    <tr>\n",
       "      <th>10</th>\n",
       "      <td>1</td>\n",
       "      <td>1</td>\n",
       "    </tr>\n",
       "    <tr>\n",
       "      <th>11</th>\n",
       "      <td>0</td>\n",
       "      <td>0</td>\n",
       "    </tr>\n",
       "    <tr>\n",
       "      <th>12</th>\n",
       "      <td>1</td>\n",
       "      <td>1</td>\n",
       "    </tr>\n",
       "    <tr>\n",
       "      <th>13</th>\n",
       "      <td>1</td>\n",
       "      <td>1</td>\n",
       "    </tr>\n",
       "    <tr>\n",
       "      <th>14</th>\n",
       "      <td>0</td>\n",
       "      <td>0</td>\n",
       "    </tr>\n",
       "    <tr>\n",
       "      <th>15</th>\n",
       "      <td>0</td>\n",
       "      <td>0</td>\n",
       "    </tr>\n",
       "    <tr>\n",
       "      <th>16</th>\n",
       "      <td>2</td>\n",
       "      <td>2</td>\n",
       "    </tr>\n",
       "    <tr>\n",
       "      <th>17</th>\n",
       "      <td>0</td>\n",
       "      <td>0</td>\n",
       "    </tr>\n",
       "    <tr>\n",
       "      <th>18</th>\n",
       "      <td>2</td>\n",
       "      <td>2</td>\n",
       "    </tr>\n",
       "    <tr>\n",
       "      <th>19</th>\n",
       "      <td>1</td>\n",
       "      <td>1</td>\n",
       "    </tr>\n",
       "    <tr>\n",
       "      <th>20</th>\n",
       "      <td>1</td>\n",
       "      <td>2</td>\n",
       "    </tr>\n",
       "    <tr>\n",
       "      <th>21</th>\n",
       "      <td>1</td>\n",
       "      <td>1</td>\n",
       "    </tr>\n",
       "    <tr>\n",
       "      <th>22</th>\n",
       "      <td>0</td>\n",
       "      <td>0</td>\n",
       "    </tr>\n",
       "    <tr>\n",
       "      <th>23</th>\n",
       "      <td>2</td>\n",
       "      <td>2</td>\n",
       "    </tr>\n",
       "    <tr>\n",
       "      <th>24</th>\n",
       "      <td>2</td>\n",
       "      <td>2</td>\n",
       "    </tr>\n",
       "    <tr>\n",
       "      <th>25</th>\n",
       "      <td>0</td>\n",
       "      <td>0</td>\n",
       "    </tr>\n",
       "    <tr>\n",
       "      <th>26</th>\n",
       "      <td>1</td>\n",
       "      <td>1</td>\n",
       "    </tr>\n",
       "    <tr>\n",
       "      <th>27</th>\n",
       "      <td>2</td>\n",
       "      <td>2</td>\n",
       "    </tr>\n",
       "    <tr>\n",
       "      <th>28</th>\n",
       "      <td>2</td>\n",
       "      <td>2</td>\n",
       "    </tr>\n",
       "    <tr>\n",
       "      <th>29</th>\n",
       "      <td>2</td>\n",
       "      <td>2</td>\n",
       "    </tr>\n",
       "    <tr>\n",
       "      <th>30</th>\n",
       "      <td>2</td>\n",
       "      <td>2</td>\n",
       "    </tr>\n",
       "    <tr>\n",
       "      <th>31</th>\n",
       "      <td>2</td>\n",
       "      <td>2</td>\n",
       "    </tr>\n",
       "    <tr>\n",
       "      <th>32</th>\n",
       "      <td>1</td>\n",
       "      <td>1</td>\n",
       "    </tr>\n",
       "    <tr>\n",
       "      <th>33</th>\n",
       "      <td>1</td>\n",
       "      <td>1</td>\n",
       "    </tr>\n",
       "    <tr>\n",
       "      <th>34</th>\n",
       "      <td>1</td>\n",
       "      <td>1</td>\n",
       "    </tr>\n",
       "    <tr>\n",
       "      <th>35</th>\n",
       "      <td>2</td>\n",
       "      <td>2</td>\n",
       "    </tr>\n",
       "    <tr>\n",
       "      <th>36</th>\n",
       "      <td>1</td>\n",
       "      <td>1</td>\n",
       "    </tr>\n",
       "    <tr>\n",
       "      <th>37</th>\n",
       "      <td>2</td>\n",
       "      <td>2</td>\n",
       "    </tr>\n",
       "    <tr>\n",
       "      <th>38</th>\n",
       "      <td>2</td>\n",
       "      <td>2</td>\n",
       "    </tr>\n",
       "    <tr>\n",
       "      <th>39</th>\n",
       "      <td>0</td>\n",
       "      <td>0</td>\n",
       "    </tr>\n",
       "    <tr>\n",
       "      <th>40</th>\n",
       "      <td>2</td>\n",
       "      <td>2</td>\n",
       "    </tr>\n",
       "    <tr>\n",
       "      <th>41</th>\n",
       "      <td>2</td>\n",
       "      <td>2</td>\n",
       "    </tr>\n",
       "    <tr>\n",
       "      <th>42</th>\n",
       "      <td>2</td>\n",
       "      <td>2</td>\n",
       "    </tr>\n",
       "    <tr>\n",
       "      <th>43</th>\n",
       "      <td>1</td>\n",
       "      <td>1</td>\n",
       "    </tr>\n",
       "    <tr>\n",
       "      <th>44</th>\n",
       "      <td>1</td>\n",
       "      <td>1</td>\n",
       "    </tr>\n",
       "  </tbody>\n",
       "</table>\n",
       "</div>"
      ],
      "text/plain": [
       "    label  predict\n",
       "0       0        0\n",
       "1       0        0\n",
       "2       1        1\n",
       "3       2        2\n",
       "4       2        2\n",
       "5       2        2\n",
       "6       0        0\n",
       "7       0        0\n",
       "8       2        2\n",
       "9       2        2\n",
       "10      1        1\n",
       "11      0        0\n",
       "12      1        1\n",
       "13      1        1\n",
       "14      0        0\n",
       "15      0        0\n",
       "16      2        2\n",
       "17      0        0\n",
       "18      2        2\n",
       "19      1        1\n",
       "20      1        2\n",
       "21      1        1\n",
       "22      0        0\n",
       "23      2        2\n",
       "24      2        2\n",
       "25      0        0\n",
       "26      1        1\n",
       "27      2        2\n",
       "28      2        2\n",
       "29      2        2\n",
       "30      2        2\n",
       "31      2        2\n",
       "32      1        1\n",
       "33      1        1\n",
       "34      1        1\n",
       "35      2        2\n",
       "36      1        1\n",
       "37      2        2\n",
       "38      2        2\n",
       "39      0        0\n",
       "40      2        2\n",
       "41      2        2\n",
       "42      2        2\n",
       "43      1        1\n",
       "44      1        1"
      ]
     },
     "execution_count": 29,
     "metadata": {},
     "output_type": "execute_result"
    }
   ],
   "source": [
    "df = pd.DataFrame({'label':Y_test_arrayflat,'predict':prediction})\n",
    "df"
   ]
  },
  {
   "cell_type": "markdown",
   "metadata": {},
   "source": [
    "#### 列印出混淆矩陣中，不一樣的某些紀錄。"
   ]
  },
  {
   "cell_type": "code",
   "execution_count": 30,
   "metadata": {},
   "outputs": [
    {
     "data": {
      "text/html": [
       "<div>\n",
       "<style scoped>\n",
       "    .dataframe tbody tr th:only-of-type {\n",
       "        vertical-align: middle;\n",
       "    }\n",
       "\n",
       "    .dataframe tbody tr th {\n",
       "        vertical-align: top;\n",
       "    }\n",
       "\n",
       "    .dataframe thead th {\n",
       "        text-align: right;\n",
       "    }\n",
       "</style>\n",
       "<table border=\"1\" class=\"dataframe\">\n",
       "  <thead>\n",
       "    <tr style=\"text-align: right;\">\n",
       "      <th></th>\n",
       "      <th>label</th>\n",
       "      <th>predict</th>\n",
       "    </tr>\n",
       "  </thead>\n",
       "  <tbody>\n",
       "    <tr>\n",
       "      <th>20</th>\n",
       "      <td>1</td>\n",
       "      <td>2</td>\n",
       "    </tr>\n",
       "  </tbody>\n",
       "</table>\n",
       "</div>"
      ],
      "text/plain": [
       "    label  predict\n",
       "20      1        2"
      ]
     },
     "execution_count": 30,
     "metadata": {},
     "output_type": "execute_result"
    }
   ],
   "source": [
    "df[(df.label==1)&(df.predict==2)]"
   ]
  },
  {
   "cell_type": "code",
   "execution_count": null,
   "metadata": {},
   "outputs": [],
   "source": []
  }
 ],
 "metadata": {
  "kernelspec": {
   "display_name": "Python 3",
   "language": "python",
   "name": "python3"
  },
  "language_info": {
   "codemirror_mode": {
    "name": "ipython",
    "version": 3
   },
   "file_extension": ".py",
   "mimetype": "text/x-python",
   "name": "python",
   "nbconvert_exporter": "python",
   "pygments_lexer": "ipython3",
   "version": "3.7.6"
  }
 },
 "nbformat": 4,
 "nbformat_minor": 4
}
